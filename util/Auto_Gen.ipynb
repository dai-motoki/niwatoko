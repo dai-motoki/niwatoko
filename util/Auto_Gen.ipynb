{
 "cells": [
  {
   "cell_type": "markdown",
   "metadata": {},
   "source": [
    "以下のpipコマンドで必要なパッケージをインストールしておいてください。\n",
    "```\n",
    "pip install python-dotenv\n",
    "```\n",
    "\n",
    "エディタ上で、以下の拡張機能をインストールしておいてください。  \n",
    "◆Cursor[VS Codeにも同じ名前のものがあります。]  \n",
    "https://marketplace.cursorapi.com/items?itemName=ms-toolsai.jupyter\n",
    "\n",
    "commandは変数適宜必要なものを追加して、不要なものをコメントアウト。  \n",
    "一度起動したあとに、以下の\n",
    "- ARGUMENT\n",
    "- PARAM_M_MODEL\n",
    "- PARAM_MII_MODEL\n",
    "- PARAM_O_OUTPUT  \n",
    "の値をniwatoko_envで変えて再実行しても変化しない場合があります。  \n",
    "print(command)でデバッグを取得しているので、subprocess.runのコードをコメントアウトして  \n",
    "APIで実行前に変化しているか確認してください。\n",
    "\n",
    "❓️変化しない場合は\n",
    "- エディタの再起動\n",
    "- Jupyter Notebookをエディタから再起動[上記拡張機能をインストール済みの場合、以下のキャプチャの赤線のボタンで実行]  \n",
    "のいずれかで対応できます。\n",
    "\n",
    "![Jupyter Notebook再起動](./Restart%20on%20Jupyter%20Notebook.png)"
   ]
  },
  {
   "cell_type": "markdown",
   "metadata": {},
   "source": [
    "#### パッケージのインポート"
   ]
  },
  {
   "cell_type": "code",
   "execution_count": null,
   "metadata": {},
   "outputs": [],
   "source": [
    "# CLIをPython上で実行\n",
    "import subprocess\n",
    "import os\n",
    "# 環境変数のセット\n",
    "from dotenv import load_dotenv"
   ]
  },
  {
   "cell_type": "markdown",
   "metadata": {},
   "source": [
    "#### 実行"
   ]
  },
  {
   "cell_type": "code",
   "execution_count": null,
   "metadata": {},
   "outputs": [],
   "source": [
    "# .envファイルのパスを指定する\n",
    "dotenv_path = './.niwatoko_img_env'\n",
    "load_dotenv(dotenv_path)\n",
    "\n",
    "# .envファイルから設定を読み込む\n",
    "ARGUMENT = os.getenv('ARGUMENT')\n",
    "PARAM_M_MODEL = os.getenv('PARAM_MODEL')\n",
    "# PARAM_MII_MODEL = os.getenv('PARAM_MII_MODEL_INPUT_IMG')\n",
    "PARAM_O_OUTPUT = os.getenv('PARAM_O_OUTPUT')\n",
    "\n",
    "# niwatoko コマンドライン\n",
    "command = f\"niwatoko {ARGUMENT} -m {PARAM_M_MODEL} -o {PARAM_O_OUTPUT}\"\n",
    "\n",
    "print(command)\n",
    "\n",
    "# コマンドラインを実行する\n",
    "subprocess.run(\n",
    "     command\n",
    "     , shell=True\n",
    "     , capture_output=True\n",
    "     , text=True\n",
    ")"
   ]
  }
 ],
 "metadata": {
  "kernelspec": {
   "display_name": "venv",
   "language": "python",
   "name": "python3"
  },
  "language_info": {
   "codemirror_mode": {
    "name": "ipython",
    "version": 3
   },
   "file_extension": ".py",
   "mimetype": "text/x-python",
   "name": "python",
   "nbconvert_exporter": "python",
   "pygments_lexer": "ipython3",
   "version": "3.11.5"
  }
 },
 "nbformat": 4,
 "nbformat_minor": 2
}
